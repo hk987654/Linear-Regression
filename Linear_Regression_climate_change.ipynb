{
 "cells": [
  {
   "cell_type": "markdown",
   "metadata": {},
   "source": [
    "# Linear Regression VAC Project\n",
    "- by Harshit Kandhwey (RA1911026020001)"
   ]
  },
  {
   "cell_type": "markdown",
   "metadata": {},
   "source": [
    "### Study of Climate Change (1985 - 2005)"
   ]
  },
  {
   "cell_type": "code",
   "execution_count": 1,
   "metadata": {},
   "outputs": [],
   "source": [
    "# Import Libraries and classes\n",
    "import pandas as pd\n",
    "import numpy as np\n",
    "import matplotlib.pyplot as plt\n",
    "from sklearn.linear_model import LinearRegression\n",
    "from sklearn.model_selection import train_test_split\n",
    "%matplotlib inline"
   ]
  },
  {
   "cell_type": "code",
   "execution_count": 2,
   "metadata": {},
   "outputs": [
    {
     "name": "stdout",
     "output_type": "stream",
     "text": [
      "     Year  Month    MEI     CO2      CH4      N2O   CFC-11   CFC-12  \\\n",
      "0    1985      1 -0.561  345.25  1663.42  305.301  208.537  373.623   \n",
      "1    1985      2 -0.602  346.06  1666.21  305.243  209.543  374.681   \n",
      "2    1985      3 -0.737  347.66  1678.34  305.165  210.368  376.004   \n",
      "3    1985      4 -0.484  348.20  1675.24  305.093  211.111  377.635   \n",
      "4    1985      5 -0.731  348.92  1666.83  305.045  211.823  379.539   \n",
      "..    ...    ...    ...     ...      ...      ...      ...      ...   \n",
      "247  2005      8  0.321  378.73  1766.98  318.933  251.077  540.978   \n",
      "248  2005      9  0.255  376.66  1787.78  319.108  250.998  541.206   \n",
      "249  2005     10 -0.166  376.98  1806.71  319.299  251.021  541.440   \n",
      "250  2005     11 -0.407  378.29  1803.68  319.525  251.048  541.756   \n",
      "251  2005     12 -0.585  379.92  1798.89  319.688  250.989  541.799   \n",
      "\n",
      "           TSI  Aerosols   Temp  \n",
      "0    1365.6082    0.0164 -0.001  \n",
      "1    1365.7085    0.0160 -0.155  \n",
      "2    1365.6570    0.0141 -0.032  \n",
      "3    1365.5120    0.0138 -0.042  \n",
      "4    1365.6366    0.0128  0.001  \n",
      "..         ...       ...    ...  \n",
      "247  1365.9275    0.0036  0.502  \n",
      "248  1365.7988    0.0037  0.498  \n",
      "249  1365.8860    0.0037  0.495  \n",
      "250  1365.7792    0.0037  0.478  \n",
      "251  1365.8549    0.0036  0.366  \n",
      "\n",
      "[252 rows x 11 columns]\n"
     ]
    }
   ],
   "source": [
    "climate_change=pd.read_csv('climate_change.csv')\n",
    "print(climate_change)"
   ]
  },
  {
   "cell_type": "code",
   "execution_count": 3,
   "metadata": {},
   "outputs": [
    {
     "data": {
      "text/html": [
       "<div>\n",
       "<style scoped>\n",
       "    .dataframe tbody tr th:only-of-type {\n",
       "        vertical-align: middle;\n",
       "    }\n",
       "\n",
       "    .dataframe tbody tr th {\n",
       "        vertical-align: top;\n",
       "    }\n",
       "\n",
       "    .dataframe thead th {\n",
       "        text-align: right;\n",
       "    }\n",
       "</style>\n",
       "<table border=\"1\" class=\"dataframe\">\n",
       "  <thead>\n",
       "    <tr style=\"text-align: right;\">\n",
       "      <th></th>\n",
       "      <th>Year</th>\n",
       "      <th>Month</th>\n",
       "      <th>MEI</th>\n",
       "      <th>CO2</th>\n",
       "      <th>CH4</th>\n",
       "      <th>N2O</th>\n",
       "      <th>CFC-11</th>\n",
       "      <th>CFC-12</th>\n",
       "      <th>TSI</th>\n",
       "      <th>Aerosols</th>\n",
       "      <th>Temp</th>\n",
       "    </tr>\n",
       "  </thead>\n",
       "  <tbody>\n",
       "    <tr>\n",
       "      <th>0</th>\n",
       "      <td>1985</td>\n",
       "      <td>1</td>\n",
       "      <td>-0.561</td>\n",
       "      <td>345.25</td>\n",
       "      <td>1663.42</td>\n",
       "      <td>305.301</td>\n",
       "      <td>208.537</td>\n",
       "      <td>373.623</td>\n",
       "      <td>1365.6082</td>\n",
       "      <td>0.0164</td>\n",
       "      <td>-0.001</td>\n",
       "    </tr>\n",
       "    <tr>\n",
       "      <th>1</th>\n",
       "      <td>1985</td>\n",
       "      <td>2</td>\n",
       "      <td>-0.602</td>\n",
       "      <td>346.06</td>\n",
       "      <td>1666.21</td>\n",
       "      <td>305.243</td>\n",
       "      <td>209.543</td>\n",
       "      <td>374.681</td>\n",
       "      <td>1365.7085</td>\n",
       "      <td>0.0160</td>\n",
       "      <td>-0.155</td>\n",
       "    </tr>\n",
       "    <tr>\n",
       "      <th>2</th>\n",
       "      <td>1985</td>\n",
       "      <td>3</td>\n",
       "      <td>-0.737</td>\n",
       "      <td>347.66</td>\n",
       "      <td>1678.34</td>\n",
       "      <td>305.165</td>\n",
       "      <td>210.368</td>\n",
       "      <td>376.004</td>\n",
       "      <td>1365.6570</td>\n",
       "      <td>0.0141</td>\n",
       "      <td>-0.032</td>\n",
       "    </tr>\n",
       "    <tr>\n",
       "      <th>3</th>\n",
       "      <td>1985</td>\n",
       "      <td>4</td>\n",
       "      <td>-0.484</td>\n",
       "      <td>348.20</td>\n",
       "      <td>1675.24</td>\n",
       "      <td>305.093</td>\n",
       "      <td>211.111</td>\n",
       "      <td>377.635</td>\n",
       "      <td>1365.5120</td>\n",
       "      <td>0.0138</td>\n",
       "      <td>-0.042</td>\n",
       "    </tr>\n",
       "    <tr>\n",
       "      <th>4</th>\n",
       "      <td>1985</td>\n",
       "      <td>5</td>\n",
       "      <td>-0.731</td>\n",
       "      <td>348.92</td>\n",
       "      <td>1666.83</td>\n",
       "      <td>305.045</td>\n",
       "      <td>211.823</td>\n",
       "      <td>379.539</td>\n",
       "      <td>1365.6366</td>\n",
       "      <td>0.0128</td>\n",
       "      <td>0.001</td>\n",
       "    </tr>\n",
       "  </tbody>\n",
       "</table>\n",
       "</div>"
      ],
      "text/plain": [
       "   Year  Month    MEI     CO2      CH4      N2O   CFC-11   CFC-12        TSI  \\\n",
       "0  1985      1 -0.561  345.25  1663.42  305.301  208.537  373.623  1365.6082   \n",
       "1  1985      2 -0.602  346.06  1666.21  305.243  209.543  374.681  1365.7085   \n",
       "2  1985      3 -0.737  347.66  1678.34  305.165  210.368  376.004  1365.6570   \n",
       "3  1985      4 -0.484  348.20  1675.24  305.093  211.111  377.635  1365.5120   \n",
       "4  1985      5 -0.731  348.92  1666.83  305.045  211.823  379.539  1365.6366   \n",
       "\n",
       "   Aerosols   Temp  \n",
       "0    0.0164 -0.001  \n",
       "1    0.0160 -0.155  \n",
       "2    0.0141 -0.032  \n",
       "3    0.0138 -0.042  \n",
       "4    0.0128  0.001  "
      ]
     },
     "execution_count": 3,
     "metadata": {},
     "output_type": "execute_result"
    }
   ],
   "source": [
    "# Print first 5 data\n",
    "climate_change.head()"
   ]
  },
  {
   "cell_type": "code",
   "execution_count": 4,
   "metadata": {},
   "outputs": [
    {
     "data": {
      "text/html": [
       "<div>\n",
       "<style scoped>\n",
       "    .dataframe tbody tr th:only-of-type {\n",
       "        vertical-align: middle;\n",
       "    }\n",
       "\n",
       "    .dataframe tbody tr th {\n",
       "        vertical-align: top;\n",
       "    }\n",
       "\n",
       "    .dataframe thead th {\n",
       "        text-align: right;\n",
       "    }\n",
       "</style>\n",
       "<table border=\"1\" class=\"dataframe\">\n",
       "  <thead>\n",
       "    <tr style=\"text-align: right;\">\n",
       "      <th></th>\n",
       "      <th>Year</th>\n",
       "      <th>Month</th>\n",
       "      <th>MEI</th>\n",
       "      <th>CO2</th>\n",
       "      <th>CH4</th>\n",
       "      <th>N2O</th>\n",
       "      <th>CFC-11</th>\n",
       "      <th>CFC-12</th>\n",
       "      <th>TSI</th>\n",
       "      <th>Aerosols</th>\n",
       "      <th>Temp</th>\n",
       "    </tr>\n",
       "  </thead>\n",
       "  <tbody>\n",
       "    <tr>\n",
       "      <th>247</th>\n",
       "      <td>2005</td>\n",
       "      <td>8</td>\n",
       "      <td>0.321</td>\n",
       "      <td>378.73</td>\n",
       "      <td>1766.98</td>\n",
       "      <td>318.933</td>\n",
       "      <td>251.077</td>\n",
       "      <td>540.978</td>\n",
       "      <td>1365.9275</td>\n",
       "      <td>0.0036</td>\n",
       "      <td>0.502</td>\n",
       "    </tr>\n",
       "    <tr>\n",
       "      <th>248</th>\n",
       "      <td>2005</td>\n",
       "      <td>9</td>\n",
       "      <td>0.255</td>\n",
       "      <td>376.66</td>\n",
       "      <td>1787.78</td>\n",
       "      <td>319.108</td>\n",
       "      <td>250.998</td>\n",
       "      <td>541.206</td>\n",
       "      <td>1365.7988</td>\n",
       "      <td>0.0037</td>\n",
       "      <td>0.498</td>\n",
       "    </tr>\n",
       "    <tr>\n",
       "      <th>249</th>\n",
       "      <td>2005</td>\n",
       "      <td>10</td>\n",
       "      <td>-0.166</td>\n",
       "      <td>376.98</td>\n",
       "      <td>1806.71</td>\n",
       "      <td>319.299</td>\n",
       "      <td>251.021</td>\n",
       "      <td>541.440</td>\n",
       "      <td>1365.8860</td>\n",
       "      <td>0.0037</td>\n",
       "      <td>0.495</td>\n",
       "    </tr>\n",
       "    <tr>\n",
       "      <th>250</th>\n",
       "      <td>2005</td>\n",
       "      <td>11</td>\n",
       "      <td>-0.407</td>\n",
       "      <td>378.29</td>\n",
       "      <td>1803.68</td>\n",
       "      <td>319.525</td>\n",
       "      <td>251.048</td>\n",
       "      <td>541.756</td>\n",
       "      <td>1365.7792</td>\n",
       "      <td>0.0037</td>\n",
       "      <td>0.478</td>\n",
       "    </tr>\n",
       "    <tr>\n",
       "      <th>251</th>\n",
       "      <td>2005</td>\n",
       "      <td>12</td>\n",
       "      <td>-0.585</td>\n",
       "      <td>379.92</td>\n",
       "      <td>1798.89</td>\n",
       "      <td>319.688</td>\n",
       "      <td>250.989</td>\n",
       "      <td>541.799</td>\n",
       "      <td>1365.8549</td>\n",
       "      <td>0.0036</td>\n",
       "      <td>0.366</td>\n",
       "    </tr>\n",
       "  </tbody>\n",
       "</table>\n",
       "</div>"
      ],
      "text/plain": [
       "     Year  Month    MEI     CO2      CH4      N2O   CFC-11   CFC-12  \\\n",
       "247  2005      8  0.321  378.73  1766.98  318.933  251.077  540.978   \n",
       "248  2005      9  0.255  376.66  1787.78  319.108  250.998  541.206   \n",
       "249  2005     10 -0.166  376.98  1806.71  319.299  251.021  541.440   \n",
       "250  2005     11 -0.407  378.29  1803.68  319.525  251.048  541.756   \n",
       "251  2005     12 -0.585  379.92  1798.89  319.688  250.989  541.799   \n",
       "\n",
       "           TSI  Aerosols   Temp  \n",
       "247  1365.9275    0.0036  0.502  \n",
       "248  1365.7988    0.0037  0.498  \n",
       "249  1365.8860    0.0037  0.495  \n",
       "250  1365.7792    0.0037  0.478  \n",
       "251  1365.8549    0.0036  0.366  "
      ]
     },
     "execution_count": 4,
     "metadata": {},
     "output_type": "execute_result"
    }
   ],
   "source": [
    "# Print last 5 data\n",
    "climate_change.tail()"
   ]
  },
  {
   "cell_type": "code",
   "execution_count": 5,
   "metadata": {},
   "outputs": [
    {
     "data": {
      "text/plain": [
       "2772"
      ]
     },
     "execution_count": 5,
     "metadata": {},
     "output_type": "execute_result"
    }
   ],
   "source": [
    "# Print Size of Dataset\n",
    "climate_change.size"
   ]
  },
  {
   "cell_type": "code",
   "execution_count": 6,
   "metadata": {},
   "outputs": [
    {
     "data": {
      "text/plain": [
       "(252, 11)"
      ]
     },
     "execution_count": 6,
     "metadata": {},
     "output_type": "execute_result"
    }
   ],
   "source": [
    "# Print Shape of Dataset\n",
    "climate_change.shape"
   ]
  },
  {
   "cell_type": "code",
   "execution_count": 7,
   "metadata": {},
   "outputs": [
    {
     "name": "stdout",
     "output_type": "stream",
     "text": [
      "<class 'pandas.core.frame.DataFrame'>\n",
      "RangeIndex: 252 entries, 0 to 251\n",
      "Data columns (total 11 columns):\n",
      " #   Column    Non-Null Count  Dtype  \n",
      "---  ------    --------------  -----  \n",
      " 0   Year      252 non-null    int64  \n",
      " 1   Month     252 non-null    int64  \n",
      " 2   MEI       252 non-null    float64\n",
      " 3   CO2       252 non-null    float64\n",
      " 4   CH4       252 non-null    float64\n",
      " 5   N2O       252 non-null    float64\n",
      " 6   CFC-11    252 non-null    float64\n",
      " 7   CFC-12    252 non-null    float64\n",
      " 8   TSI       252 non-null    float64\n",
      " 9   Aerosols  252 non-null    float64\n",
      " 10  Temp      252 non-null    float64\n",
      "dtypes: float64(9), int64(2)\n",
      "memory usage: 21.8 KB\n"
     ]
    }
   ],
   "source": [
    "# Print information of Dataset\n",
    "climate_change.info()"
   ]
  },
  {
   "cell_type": "code",
   "execution_count": 8,
   "metadata": {},
   "outputs": [
    {
     "data": {
      "text/html": [
       "<div>\n",
       "<style scoped>\n",
       "    .dataframe tbody tr th:only-of-type {\n",
       "        vertical-align: middle;\n",
       "    }\n",
       "\n",
       "    .dataframe tbody tr th {\n",
       "        vertical-align: top;\n",
       "    }\n",
       "\n",
       "    .dataframe thead th {\n",
       "        text-align: right;\n",
       "    }\n",
       "</style>\n",
       "<table border=\"1\" class=\"dataframe\">\n",
       "  <thead>\n",
       "    <tr style=\"text-align: right;\">\n",
       "      <th></th>\n",
       "      <th>Year</th>\n",
       "      <th>Temp</th>\n",
       "    </tr>\n",
       "  </thead>\n",
       "  <tbody>\n",
       "    <tr>\n",
       "      <th>0</th>\n",
       "      <td>1985</td>\n",
       "      <td>-0.001</td>\n",
       "    </tr>\n",
       "    <tr>\n",
       "      <th>1</th>\n",
       "      <td>1985</td>\n",
       "      <td>-0.155</td>\n",
       "    </tr>\n",
       "    <tr>\n",
       "      <th>2</th>\n",
       "      <td>1985</td>\n",
       "      <td>-0.032</td>\n",
       "    </tr>\n",
       "    <tr>\n",
       "      <th>3</th>\n",
       "      <td>1985</td>\n",
       "      <td>-0.042</td>\n",
       "    </tr>\n",
       "    <tr>\n",
       "      <th>4</th>\n",
       "      <td>1985</td>\n",
       "      <td>0.001</td>\n",
       "    </tr>\n",
       "    <tr>\n",
       "      <th>...</th>\n",
       "      <td>...</td>\n",
       "      <td>...</td>\n",
       "    </tr>\n",
       "    <tr>\n",
       "      <th>247</th>\n",
       "      <td>2005</td>\n",
       "      <td>0.502</td>\n",
       "    </tr>\n",
       "    <tr>\n",
       "      <th>248</th>\n",
       "      <td>2005</td>\n",
       "      <td>0.498</td>\n",
       "    </tr>\n",
       "    <tr>\n",
       "      <th>249</th>\n",
       "      <td>2005</td>\n",
       "      <td>0.495</td>\n",
       "    </tr>\n",
       "    <tr>\n",
       "      <th>250</th>\n",
       "      <td>2005</td>\n",
       "      <td>0.478</td>\n",
       "    </tr>\n",
       "    <tr>\n",
       "      <th>251</th>\n",
       "      <td>2005</td>\n",
       "      <td>0.366</td>\n",
       "    </tr>\n",
       "  </tbody>\n",
       "</table>\n",
       "<p>252 rows × 2 columns</p>\n",
       "</div>"
      ],
      "text/plain": [
       "     Year   Temp\n",
       "0    1985 -0.001\n",
       "1    1985 -0.155\n",
       "2    1985 -0.032\n",
       "3    1985 -0.042\n",
       "4    1985  0.001\n",
       "..    ...    ...\n",
       "247  2005  0.502\n",
       "248  2005  0.498\n",
       "249  2005  0.495\n",
       "250  2005  0.478\n",
       "251  2005  0.366\n",
       "\n",
       "[252 rows x 2 columns]"
      ]
     },
     "execution_count": 8,
     "metadata": {},
     "output_type": "execute_result"
    }
   ],
   "source": [
    "# Dropping Un-Necessary cloumns from Dataset\n",
    "climate_change.drop(['Month','MEI','CO2','CH4','N2O','CFC-11','CFC-12','TSI','Aerosols'],axis=1)"
   ]
  },
  {
   "cell_type": "code",
   "execution_count": 9,
   "metadata": {},
   "outputs": [],
   "source": [
    "# Divide the data into “Attributes” and “labels”\n",
    "X = climate_change[['Year']]\n",
    "y = climate_change['Temp']"
   ]
  },
  {
   "cell_type": "code",
   "execution_count": 10,
   "metadata": {},
   "outputs": [
    {
     "data": {
      "text/plain": [
       "(252, 1)"
      ]
     },
     "execution_count": 10,
     "metadata": {},
     "output_type": "execute_result"
    }
   ],
   "source": [
    "# Print Shape of X \n",
    "X.shape"
   ]
  },
  {
   "cell_type": "code",
   "execution_count": 11,
   "metadata": {},
   "outputs": [
    {
     "data": {
      "text/plain": [
       "(252,)"
      ]
     },
     "execution_count": 11,
     "metadata": {},
     "output_type": "execute_result"
    }
   ],
   "source": [
    "# Print Shape of y\n",
    "y.shape"
   ]
  },
  {
   "cell_type": "code",
   "execution_count": 12,
   "metadata": {},
   "outputs": [],
   "source": [
    "# Split 80% of the data to the training set while 20% of the data to test set\n",
    "\n",
    "X_train, X_test, y_train, y_test = train_test_split(X, y, test_size=0.2, random_state=0)"
   ]
  },
  {
   "cell_type": "code",
   "execution_count": 13,
   "metadata": {},
   "outputs": [
    {
     "data": {
      "text/plain": [
       "LinearRegression()"
      ]
     },
     "execution_count": 13,
     "metadata": {},
     "output_type": "execute_result"
    }
   ],
   "source": [
    "# Create a Linear Regression model and fit it\n",
    "regressor =LinearRegression(fit_intercept=True)\n",
    "regressor.fit(X_train,y_train)"
   ]
  },
  {
   "cell_type": "code",
   "execution_count": 14,
   "metadata": {},
   "outputs": [
    {
     "name": "stdout",
     "output_type": "stream",
     "text": [
      "Linear Model Coeff (m) = [0.02226052]\n",
      "Linear Model Coeff (b) = -44.15392686268021\n"
     ]
    }
   ],
   "source": [
    "# Getting Results\n",
    "print('Linear Model Coeff (m) =' , regressor.coef_)\n",
    "print('Linear Model Coeff (b) =' , regressor.intercept_)"
   ]
  },
  {
   "cell_type": "code",
   "execution_count": 15,
   "metadata": {},
   "outputs": [
    {
     "name": "stdout",
     "output_type": "stream",
     "text": [
      "[0.32258485 0.16676123 0.34484536 0.21128226 0.30032433 0.3893664\n",
      " 0.23354278 0.43388743 0.14450072 0.27806381 0.30032433 0.45614794\n",
      " 0.23354278 0.36710588 0.30032433 0.16676123 0.41162691 0.34484536\n",
      " 0.32258485 0.21128226 0.36710588 0.09997968 0.45614794 0.27806381\n",
      " 0.23354278 0.47840846 0.03319813 0.1222402  0.3893664  0.09997968\n",
      " 0.47840846 0.2558033  0.23354278 0.36710588 0.34484536 0.30032433\n",
      " 0.36710588 0.03319813 0.05545865 0.36710588 0.2558033  0.05545865\n",
      " 0.41162691 0.34484536 0.18902175 0.2558033  0.45614794 0.09997968\n",
      " 0.14450072 0.36710588 0.14450072]\n"
     ]
    }
   ],
   "source": [
    "# Predicting the data\n",
    "y_predict=regressor.predict(X_test)\n",
    "print(y_predict)"
   ]
  },
  {
   "cell_type": "code",
   "execution_count": 16,
   "metadata": {},
   "outputs": [
    {
     "data": {
      "text/plain": [
       "Text(0.5, 1.0, 'Temperature Rising vs. Respective Years')"
      ]
     },
     "execution_count": 16,
     "metadata": {},
     "output_type": "execute_result"
    },
    {
     "data": {
      "image/png": "[encoded data removed]",
      "text/plain": [
       "<Figure size 432x288 with 1 Axes>"
      ]
     },
     "metadata": {
      "needs_background": "light"
     },
     "output_type": "display_data"
    }
   ],
   "source": [
    "# Scatter plot on Training Data\n",
    "plt.scatter(X_train,y_train,color='blue')\n",
    "plt.plot(X_train,regressor.predict(X_train),color='red')\n",
    "plt.ylabel('Temperature [degC]')\n",
    "plt.xlabel('Year [year]')\n",
    "plt.title('Temperature Rising vs. Respective Years')"
   ]
  },
  {
   "cell_type": "code",
   "execution_count": 17,
   "metadata": {},
   "outputs": [
    {
     "data": {
      "text/plain": [
       "Text(0.5, 1.0, 'Temperature Rising vs. Respective Years')"
      ]
     },
     "execution_count": 17,
     "metadata": {},
     "output_type": "execute_result"
    },
    {
     "data": {
      "image/png": "[encoded data removed]",
      "text/plain": [
       "<Figure size 432x288 with 1 Axes>"
      ]
     },
     "metadata": {
      "needs_background": "light"
     },
     "output_type": "display_data"
    }
   ],
   "source": [
    "# Scatter plot on Testing Data\n",
    "plt.scatter(X_test,y_test,color='blue')\n",
    "plt.plot(X_test,regressor.predict(X_test),color='red')\n",
    "plt.ylabel('Temperature [degC]')\n",
    "plt.xlabel('Year [year]')\n",
    "plt.title('Temperature Rising vs. Respective Years')"
   ]
  },
  {
   "cell_type": "code",
   "execution_count": null,
   "metadata": {},
   "outputs": [],
   "source": []
  }
 ],
 "metadata": {
  "kernelspec": {
   "display_name": "Python 3",
   "language": "python",
   "name": "python3"
  },
  "language_info": {
   "codemirror_mode": {
    "name": "ipython",
    "version": 3
   },
   "file_extension": ".py",
   "mimetype": "text/x-python",
   "name": "python",
   "nbconvert_exporter": "python",
   "pygments_lexer": "ipython3",
   "version": "3.9.1"
  }
 },
 "nbformat": 4,
 "nbformat_minor": 2
}
